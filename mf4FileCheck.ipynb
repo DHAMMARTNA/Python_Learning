{
  "nbformat": 4,
  "nbformat_minor": 0,
  "metadata": {
    "colab": {
      "provenance": [],
      "toc_visible": true,
      "authorship_tag": "ABX9TyNbXX40dII3gVrcRTyueMXy",
      "include_colab_link": true
    },
    "kernelspec": {
      "name": "python3",
      "display_name": "Python 3"
    },
    "language_info": {
      "name": "python"
    }
  },
  "cells": [
    {
      "cell_type": "markdown",
      "metadata": {
        "id": "view-in-github",
        "colab_type": "text"
      },
      "source": [
        "<a href=\"https://colab.research.google.com/github/DHAMMARTNA/Python_Learning/blob/main/mf4FileCheck.ipynb\" target=\"_parent\"><img src=\"https://colab.research.google.com/assets/colab-badge.svg\" alt=\"Open In Colab\"/></a>"
      ]
    },
    {
      "cell_type": "code",
      "source": [
        "#Handling Mf4 file formats"
      ],
      "metadata": {
        "id": "q-82GhnIxi8_"
      },
      "execution_count": null,
      "outputs": []
    },
    {
      "cell_type": "markdown",
      "source": [
        "# Creating GUI"
      ],
      "metadata": {
        "id": "rSjbrR46scBq"
      }
    },
    {
      "cell_type": "code",
      "source": [
        "print(\"Hello World\")\n"
      ],
      "metadata": {
        "colab": {
          "base_uri": "https://localhost:8080/"
        },
        "id": "5ZwG8Kkd097H",
        "outputId": "621ad9a2-286e-42d0-ec0e-a6d3d692b793"
      },
      "execution_count": 12,
      "outputs": [
        {
          "output_type": "stream",
          "name": "stdout",
          "text": [
            "Hello World\n"
          ]
        }
      ]
    },
    {
      "cell_type": "code",
      "source": [
        "pip install asammdf[gui]"
      ],
      "metadata": {
        "colab": {
          "base_uri": "https://localhost:8080/"
        },
        "id": "N5PqvPBrxiRK",
        "outputId": "9976179c-df85-4da9-e8e5-d2bd06e10b7d"
      },
      "execution_count": 8,
      "outputs": [
        {
          "output_type": "stream",
          "name": "stdout",
          "text": [
            "Requirement already satisfied: asammdf[gui] in /usr/local/lib/python3.10/dist-packages (8.0.1)\n",
            "Requirement already satisfied: canmatrix>=1.0 in /usr/local/lib/python3.10/dist-packages (from canmatrix[arxml,dbc]>=1.0->asammdf[gui]) (1.0)\n",
            "Requirement already satisfied: lz4 in /usr/local/lib/python3.10/dist-packages (from asammdf[gui]) (4.3.3)\n",
            "Requirement already satisfied: numexpr in /usr/local/lib/python3.10/dist-packages (from asammdf[gui]) (2.10.2)\n",
            "Requirement already satisfied: numpy<2.0.0,>=1.23.0 in /usr/local/lib/python3.10/dist-packages (from asammdf[gui]) (1.26.4)\n",
            "Requirement already satisfied: pandas in /usr/local/lib/python3.10/dist-packages (from asammdf[gui]) (2.2.2)\n",
            "Requirement already satisfied: typing-extensions in /usr/local/lib/python3.10/dist-packages (from asammdf[gui]) (4.12.2)\n",
            "Requirement already satisfied: python-dateutil in /usr/local/lib/python3.10/dist-packages (from asammdf[gui]) (2.8.2)\n",
            "Requirement already satisfied: lxml>=4.9.3 in /usr/local/lib/python3.10/dist-packages (from asammdf[gui]) (5.3.0)\n",
            "Requirement already satisfied: isal in /usr/local/lib/python3.10/dist-packages (from asammdf[gui]) (1.7.1)\n",
            "Requirement already satisfied: natsort in /usr/local/lib/python3.10/dist-packages (from asammdf[gui]) (8.4.0)\n",
            "Requirement already satisfied: psutil in /usr/local/lib/python3.10/dist-packages (from asammdf[gui]) (5.9.5)\n",
            "Collecting PySide6==6.7.0 (from asammdf[gui])\n",
            "  Downloading PySide6-6.7.0-cp39-abi3-manylinux_2_28_x86_64.whl.metadata (5.3 kB)\n",
            "Collecting pyqtgraph (from asammdf[gui])\n",
            "  Downloading pyqtgraph-0.13.7-py3-none-any.whl.metadata (1.3 kB)\n",
            "Collecting pyqtlet2 (from asammdf[gui])\n",
            "  Downloading pyqtlet2-0.9.3-py3-none-any.whl.metadata (4.5 kB)\n",
            "Requirement already satisfied: packaging in /usr/local/lib/python3.10/dist-packages (from asammdf[gui]) (24.2)\n",
            "Collecting QtPy (from asammdf[gui])\n",
            "  Downloading QtPy-2.4.2-py3-none-any.whl.metadata (12 kB)\n",
            "Collecting shiboken6==6.7.0 (from PySide6==6.7.0->asammdf[gui])\n",
            "  Downloading shiboken6-6.7.0-cp39-abi3-manylinux_2_28_x86_64.whl.metadata (2.5 kB)\n",
            "Collecting PySide6-Essentials==6.7.0 (from PySide6==6.7.0->asammdf[gui])\n",
            "  Downloading PySide6_Essentials-6.7.0-cp39-abi3-manylinux_2_28_x86_64.whl.metadata (3.7 kB)\n",
            "Collecting PySide6-Addons==6.7.0 (from PySide6==6.7.0->asammdf[gui])\n",
            "  Downloading PySide6_Addons-6.7.0-cp39-abi3-manylinux_2_28_x86_64.whl.metadata (4.0 kB)\n",
            "Requirement already satisfied: attrs>=19.2.0 in /usr/local/lib/python3.10/dist-packages (from canmatrix>=1.0->canmatrix[arxml,dbc]>=1.0->asammdf[gui]) (24.3.0)\n",
            "Requirement already satisfied: click in /usr/local/lib/python3.10/dist-packages (from canmatrix>=1.0->canmatrix[arxml,dbc]>=1.0->asammdf[gui]) (8.1.7)\n",
            "Requirement already satisfied: future in /usr/local/lib/python3.10/dist-packages (from canmatrix>=1.0->canmatrix[arxml,dbc]>=1.0->asammdf[gui]) (1.0.0)\n",
            "Requirement already satisfied: six in /usr/local/lib/python3.10/dist-packages (from canmatrix>=1.0->canmatrix[arxml,dbc]>=1.0->asammdf[gui]) (1.17.0)\n",
            "Requirement already satisfied: pytz>=2020.1 in /usr/local/lib/python3.10/dist-packages (from pandas->asammdf[gui]) (2024.2)\n",
            "Requirement already satisfied: tzdata>=2022.7 in /usr/local/lib/python3.10/dist-packages (from pandas->asammdf[gui]) (2024.2)\n",
            "Downloading PySide6-6.7.0-cp39-abi3-manylinux_2_28_x86_64.whl (525 kB)\n",
            "\u001b[2K   \u001b[90m━━━━━━━━━━━━━━━━━━━━━━━━━━━━━━━━━━━━━━━━\u001b[0m \u001b[32m525.9/525.9 kB\u001b[0m \u001b[31m32.1 MB/s\u001b[0m eta \u001b[36m0:00:00\u001b[0m\n",
            "\u001b[?25hDownloading PySide6_Addons-6.7.0-cp39-abi3-manylinux_2_28_x86_64.whl (137.2 MB)\n",
            "\u001b[2K   \u001b[90m━━━━━━━━━━━━━━━━━━━━━━━━━━━━━━━━━━━━━━━━\u001b[0m \u001b[32m137.2/137.2 MB\u001b[0m \u001b[31m8.4 MB/s\u001b[0m eta \u001b[36m0:00:00\u001b[0m\n",
            "\u001b[?25hDownloading PySide6_Essentials-6.7.0-cp39-abi3-manylinux_2_28_x86_64.whl (87.2 MB)\n",
            "\u001b[2K   \u001b[90m━━━━━━━━━━━━━━━━━━━━━━━━━━━━━━━━━━━━━━━━\u001b[0m \u001b[32m87.2/87.2 MB\u001b[0m \u001b[31m8.2 MB/s\u001b[0m eta \u001b[36m0:00:00\u001b[0m\n",
            "\u001b[?25hDownloading shiboken6-6.7.0-cp39-abi3-manylinux_2_28_x86_64.whl (183 kB)\n",
            "\u001b[2K   \u001b[90m━━━━━━━━━━━━━━━━━━━━━━━━━━━━━━━━━━━━━━━━\u001b[0m \u001b[32m183.5/183.5 kB\u001b[0m \u001b[31m14.3 MB/s\u001b[0m eta \u001b[36m0:00:00\u001b[0m\n",
            "\u001b[?25hDownloading pyqtgraph-0.13.7-py3-none-any.whl (1.9 MB)\n",
            "\u001b[2K   \u001b[90m━━━━━━━━━━━━━━━━━━━━━━━━━━━━━━━━━━━━━━━━\u001b[0m \u001b[32m1.9/1.9 MB\u001b[0m \u001b[31m63.3 MB/s\u001b[0m eta \u001b[36m0:00:00\u001b[0m\n",
            "\u001b[?25hDownloading pyqtlet2-0.9.3-py3-none-any.whl (110 kB)\n",
            "\u001b[2K   \u001b[90m━━━━━━━━━━━━━━━━━━━━━━━━━━━━━━━━━━━━━━━━\u001b[0m \u001b[32m110.5/110.5 kB\u001b[0m \u001b[31m9.3 MB/s\u001b[0m eta \u001b[36m0:00:00\u001b[0m\n",
            "\u001b[?25hDownloading QtPy-2.4.2-py3-none-any.whl (95 kB)\n",
            "\u001b[2K   \u001b[90m━━━━━━━━━━━━━━━━━━━━━━━━━━━━━━━━━━━━━━━━\u001b[0m \u001b[32m95.2/95.2 kB\u001b[0m \u001b[31m7.5 MB/s\u001b[0m eta \u001b[36m0:00:00\u001b[0m\n",
            "\u001b[?25hInstalling collected packages: shiboken6, QtPy, pyqtgraph, PySide6-Essentials, pyqtlet2, PySide6-Addons, PySide6\n",
            "Successfully installed PySide6-6.7.0 PySide6-Addons-6.7.0 PySide6-Essentials-6.7.0 QtPy-2.4.2 pyqtgraph-0.13.7 pyqtlet2-0.9.3 shiboken6-6.7.0\n"
          ]
        }
      ]
    },
    {
      "cell_type": "markdown",
      "source": [],
      "metadata": {
        "id": "ILvTaTvjyOwq"
      }
    }
  ]
}